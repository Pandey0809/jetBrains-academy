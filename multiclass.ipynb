{
  "nbformat": 4,
  "nbformat_minor": 0,
  "metadata": {
    "colab": {
      "name": "EX6.ipynb",
      "provenance": [],
      "collapsed_sections": [],
      "authorship_tag": "ABX9TyMrEq80uCuPsfRNJZs4HqMB",
      "include_colab_link": true
    },
    "kernelspec": {
      "name": "python3",
      "display_name": "Python 3"
    }
  },
  "cells": [
    {
      "cell_type": "markdown",
      "metadata": {
        "id": "view-in-github",
        "colab_type": "text"
      },
      "source": [
        "<a href=\"https://colab.research.google.com/github/Pandey0809/jetBrains-academy/blob/main/multiclass.ipynb\" target=\"_parent\"><img src=\"https://colab.research.google.com/assets/colab-badge.svg\" alt=\"Open In Colab\"/></a>"
      ]
    },
    {
      "cell_type": "code",
      "metadata": {
        "id": "uNyiTG6NXxpA"
      },
      "source": [
        "import numpy as np \n",
        "import cvxpy as cp"
      ],
      "execution_count": 1,
      "outputs": []
    },
    {
      "cell_type": "code",
      "metadata": {
        "id": "lHNy12hgdow3"
      },
      "source": [
        "h1=np.array([[1,0],[1,0],[1,0]])\n",
        "h2=np.array([[0,1],[0,1],[0,1]])\n",
        "h3=np.array([[0,1],[0,1],[0,1]])\n",
        "h4=np.array([[1,0],[1,0],[1,0]])\n",
        "y=np.array([[1,0],[1,0],[1,0]])\n",
        "y_w=np.array([[0,1],[0,1],[0,1]])"
      ],
      "execution_count": 2,
      "outputs": []
    },
    {
      "cell_type": "code",
      "metadata": {
        "id": "ACF7PxMNFilL"
      },
      "source": [
        "\n"
      ],
      "execution_count": 2,
      "outputs": []
    },
    {
      "cell_type": "code",
      "metadata": {
        "id": "sq9CEWcXdvj5"
      },
      "source": [
        "w=cp.Variable(shape=(4,1),nonneg=True)\n",
        "majority=w[0]@h1+w[1]@h2+w[2]@h3+w[3]@h4"
      ],
      "execution_count": 3,
      "outputs": []
    },
    {
      "cell_type": "code",
      "metadata": {
        "colab": {
          "base_uri": "https://localhost:8080/"
        },
        "id": "kRCt_c8uwCs3",
        "outputId": "f8ec761c-c93b-4d11-f88a-a009e7ec02aa"
      },
      "source": [
        "majority"
      ],
      "execution_count": 4,
      "outputs": [
        {
          "output_type": "execute_result",
          "data": {
            "text/plain": [
              "Expression(AFFINE, NONNEGATIVE, (3, 2))"
            ]
          },
          "metadata": {
            "tags": []
          },
          "execution_count": 4
        }
      ]
    },
    {
      "cell_type": "code",
      "metadata": {
        "id": "evgYW7NvhgSc"
      },
      "source": [
        "#mu_1=0\n",
        "#mu_2=0\n",
        "#for i,j,k in zip(majority,y,y_w):\n",
        "#  mu_1=mu_1+(i[0]*j[0])+(i[1]*j[1])-((i[0]*k[0])+(i[1]*k[1]))\n",
        "#  mu_2=mu_2+((i[0]*j[0])+(i[1]*j[1])-((i[0]*k[0])+(i[1]*k[1])))**2\n",
        "\n"
      ],
      "execution_count": 5,
      "outputs": []
    },
    {
      "cell_type": "code",
      "metadata": {
        "id": "RF8Xgv3wiDq4",
        "colab": {
          "base_uri": "https://localhost:8080/",
          "height": 185
        },
        "outputId": "0e2b6eab-d44a-416c-e881-68d7273e39a3"
      },
      "source": [
        "mu_1=mu_1/4\n",
        "mu_2=mu_2/4"
      ],
      "execution_count": 6,
      "outputs": [
        {
          "output_type": "error",
          "ename": "NameError",
          "evalue": "ignored",
          "traceback": [
            "\u001b[0;31m---------------------------------------------------------------------------\u001b[0m",
            "\u001b[0;31mNameError\u001b[0m                                 Traceback (most recent call last)",
            "\u001b[0;32m<ipython-input-6-ae85b696c285>\u001b[0m in \u001b[0;36m<module>\u001b[0;34m()\u001b[0m\n\u001b[0;32m----> 1\u001b[0;31m \u001b[0mmu_1\u001b[0m\u001b[0;34m=\u001b[0m\u001b[0mmu_1\u001b[0m\u001b[0;34m/\u001b[0m\u001b[0;36m4\u001b[0m\u001b[0;34m\u001b[0m\u001b[0;34m\u001b[0m\u001b[0m\n\u001b[0m\u001b[1;32m      2\u001b[0m \u001b[0mmu_2\u001b[0m\u001b[0;34m=\u001b[0m\u001b[0mmu_2\u001b[0m\u001b[0;34m/\u001b[0m\u001b[0;36m4\u001b[0m\u001b[0;34m\u001b[0m\u001b[0;34m\u001b[0m\u001b[0m\n",
            "\u001b[0;31mNameError\u001b[0m: name 'mu_1' is not defined"
          ]
        }
      ]
    },
    {
      "cell_type": "code",
      "metadata": {
        "id": "zsfjBCFtcLhU"
      },
      "source": [
        "t=.25\n",
        "value=0\n",
        "actual_u=0\n",
        "u1=np.linspace(0,.75,10)\n",
        "for u in u1: \n",
        "  fn=u**2/mu_2\n",
        "  problem = cp.Problem(cp.Maximize(fn),[mu_1==u,cp.sum(w)==1,w>=0,fn>=0])\n",
        "  op=problem.solve()\n",
        "  print(u,w.value)"
      ],
      "execution_count": null,
      "outputs": []
    },
    {
      "cell_type": "code",
      "metadata": {
        "colab": {
          "base_uri": "https://localhost:8080/",
          "height": 167
        },
        "id": "45UBu6oEjVEX",
        "outputId": "9630161f-883d-4f71-b95d-d4a24dae9c79"
      },
      "source": [
        "actual_u"
      ],
      "execution_count": 7,
      "outputs": [
        {
          "output_type": "error",
          "ename": "NameError",
          "evalue": "ignored",
          "traceback": [
            "\u001b[0;31m---------------------------------------------------------------------------\u001b[0m",
            "\u001b[0;31mNameError\u001b[0m                                 Traceback (most recent call last)",
            "\u001b[0;32m<ipython-input-7-a3e134a6ff99>\u001b[0m in \u001b[0;36m<module>\u001b[0;34m()\u001b[0m\n\u001b[0;32m----> 1\u001b[0;31m \u001b[0mactual_u\u001b[0m\u001b[0;34m\u001b[0m\u001b[0;34m\u001b[0m\u001b[0m\n\u001b[0m",
            "\u001b[0;31mNameError\u001b[0m: name 'actual_u' is not defined"
          ]
        }
      ]
    },
    {
      "cell_type": "markdown",
      "metadata": {
        "id": "Mrdp3w-vkTtv"
      },
      "source": [
        "For 4 different trees\n"
      ]
    },
    {
      "cell_type": "code",
      "metadata": {
        "id": "JXMXaEt2cr8w"
      },
      "source": [
        "# random  splits of data for training \n",
        "# random feature selection \n",
        "# train\n",
        "# remember random features \n",
        "# predict on known features for x test\n",
        "#append the prediction on the dictionary\n",
        "import pandas as pd"
      ],
      "execution_count": 25,
      "outputs": []
    },
    {
      "cell_type": "code",
      "metadata": {
        "id": "gxacrhm_eLyt"
      },
      "source": [
        "from sklearn.datasets import load_breast_cancer\n",
        "breast_cancer = load_breast_cancer()"
      ],
      "execution_count": 26,
      "outputs": []
    },
    {
      "cell_type": "code",
      "metadata": {
        "id": "M1cxyqzbgfc6"
      },
      "source": [
        "#import data\n",
        "X = breast_cancer.data\n",
        "Y = breast_cancer.target\n",
        "#X = X[0:5, :]\n",
        "#Y = Y[0:5]\n",
        "data = pd.DataFrame(X, columns=breast_cancer.feature_names)   # converting dataset into pandas dataframe for preprocessing\n",
        "data['class'] = Y\n"
      ],
      "execution_count": 27,
      "outputs": []
    },
    {
      "cell_type": "code",
      "metadata": {
        "id": "UMqUBx-4n64v"
      },
      "source": [
        "from sklearn.model_selection import train_test_split\n",
        "X_train, X_test, y_train, y_test = train_test_split(data.drop('class',axis=1),data.iloc[:,30:31], test_size=0.3, random_state=42)"
      ],
      "execution_count": 28,
      "outputs": []
    },
    {
      "cell_type": "code",
      "metadata": {
        "id": "0bDuboDDnDZ_"
      },
      "source": [
        "n=4\n",
        "H=[]\n",
        "for i in range(0,n):\n",
        "  features=data.drop('class',axis=1).columns\n",
        "  import random \n",
        "  n=random.choice(range(1,features.size))\n",
        "  feature_list=random.choices(features,k=n)\n",
        "  feature_list\n",
        "  frames = [X_train,y_train]\n",
        "  data_train = pd.concat(frames,axis=1)\n",
        "  n_sample=random.choice(range(int(data_train.count()[0]*0.7),data_train.count()[0]))\n",
        "  data_train_sample=data_train.sample(n_sample,replace=bool)\n",
        "  X_multi=data_train_sample[features]\n",
        "  y_train_multi=[]\n",
        "  for i in data_train_sample['class']:\n",
        "      if i==1:\n",
        "          y_train_multi.append([1,0])\n",
        "      else:\n",
        "          y_train_multi.append([0,1])         \n",
        "  from sklearn import tree\n",
        "  n_depth=random.choice(range(1,5))\n",
        "  clf = tree.DecisionTreeClassifier(splitter='random',max_features='sqrt',max_depth=1)\n",
        "  clf = clf.fit(X_multi, y_train_multi)\n",
        "  #print(tree.export_text(clf))\n",
        "  predictions=clf.predict(X_test[features])  \n",
        "  H.append(predictions)"
      ],
      "execution_count": 70,
      "outputs": []
    },
    {
      "cell_type": "code",
      "metadata": {
        "id": "0mqZmYyXnsIf"
      },
      "source": [
        "y_test_multi_true=[]\n",
        "y_test_multi_false=[]\n",
        "for i in y_test['class']:\n",
        "      if i==1:\n",
        "          y_test_multi_true.append([1,0])\n",
        "      else:\n",
        "          y_test_multi_true.append([0,1])\n",
        "for i in y_test['class']:\n",
        "      if i==1:\n",
        "          y_test_multi_false.append([0,1])\n",
        "      else:\n",
        "          y_test_multi_false.append([1,0])          "
      ],
      "execution_count": 71,
      "outputs": []
    },
    {
      "cell_type": "code",
      "metadata": {
        "colab": {
          "base_uri": "https://localhost:8080/"
        },
        "id": "Jrnu8Y20nvhG",
        "outputId": "12466f1e-fbff-43da-f917-fe1e6edc9793"
      },
      "source": [
        "n = np.array(H).shape[0]\n",
        "w=cp.Variable(shape=(n,1),nonneg=True)\n",
        "print(w)\n",
        "#w = np.array([[0.25], [0.25], [0.25], [0.25]])\n",
        "#print(np.array(H).shape)\n",
        "majority = 0\n",
        "print(n)\n",
        "for i in range(n):\n",
        "  majority = majority+w[i]*H[i]\n",
        "#majority=w[0]*H[0]+w[1]*H[1]+w[2]*H[2]+w[3]*H[3]\n"
      ],
      "execution_count": 72,
      "outputs": [
        {
          "output_type": "stream",
          "text": [
            "var1253775\n",
            "4\n"
          ],
          "name": "stdout"
        }
      ]
    },
    {
      "cell_type": "code",
      "metadata": {
        "colab": {
          "base_uri": "https://localhost:8080/"
        },
        "id": "nz3fA6TYP02c",
        "outputId": "6e03ed13-7c16-47d5-e1bf-ab643ca99158"
      },
      "source": [
        "majority.shape"
      ],
      "execution_count": 73,
      "outputs": [
        {
          "output_type": "execute_result",
          "data": {
            "text/plain": [
              "(171, 2)"
            ]
          },
          "metadata": {
            "tags": []
          },
          "execution_count": 73
        }
      ]
    },
    {
      "cell_type": "code",
      "metadata": {
        "colab": {
          "base_uri": "https://localhost:8080/"
        },
        "id": "gY1XZiFoP2qp",
        "outputId": "28acafac-116a-485e-f0fc-b653c2d3063c"
      },
      "source": [
        "np.array(y_test_multi_true).shape"
      ],
      "execution_count": 74,
      "outputs": [
        {
          "output_type": "execute_result",
          "data": {
            "text/plain": [
              "(171, 2)"
            ]
          },
          "metadata": {
            "tags": []
          },
          "execution_count": 74
        }
      ]
    },
    {
      "cell_type": "code",
      "metadata": {
        "id": "FWBENR7rnxDd"
      },
      "source": [
        "#mu_1=0\n",
        "#mu_2=0\n",
        "#for i,j,k in zip(majority,y_test_multi_true,y_test_multi_false):\n",
        "#  mu_1=mu_1+(i[0]*j[0])+(i[1]*j[1])-((i[0]*k[0])+(i[1]*k[1]))\n",
        "#  mu_2=mu_2+((i[0]*j[0])+(i[1]*j[1])-((i[0]*k[0])+(i[1]*k[1])))**2\n",
        "margin = cp.sum(cp.multiply(majority, cp.atoms.affine.transpose.transpose(y_test_multi_true)), axis=1)\n",
        "#margin = margin - cp.sum(cp.multiply(majority, cp.atoms.affine.transpose.transpose(y_test_multi_false)), axis=1)\n",
        "\n",
        "mu_1 = cp.sum(margin)/majority.shape[0]\n",
        "mu_2 = cp.sum(margin**2)/majority.shape[0]"
      ],
      "execution_count": 75,
      "outputs": []
    },
    {
      "cell_type": "code",
      "metadata": {
        "colab": {
          "base_uri": "https://localhost:8080/"
        },
        "id": "qOAvaEUxmNml",
        "outputId": "d10dc7ac-ba7a-436f-b8e5-1273cc947d7a"
      },
      "source": [
        "u1=np.linspace(0.0,1.0,20)\n",
        "#for t in t1:\n",
        "for mu in u1:\n",
        "  \n",
        "  u=1\n",
        "  l=0\n",
        "  \n",
        "  while u-l>0.001:\n",
        "    t=(u+l)/2\n",
        "    fn=mu**2-(1-t)*mu_2\n",
        "    #fn=(u**2)/(mu_2)\n",
        "    #problem = cp.Problem(cp.Maximize(fn),[mu_1==u,cp.sum(w)==1,w>=0])\n",
        "  \n",
        "  \n",
        "    problem = cp.Problem(cp.Maximize(fn),[mu_1==mu,cp.sum(w)==1,w>=0])\n",
        "    #try:\n",
        "    #assert problem.is_dqcp()\n",
        "    #op=problem.solve(verbose=True)\n",
        "    try:\n",
        "      op=problem.solve(qcp=True)\n",
        "      u=t\n",
        "      if w[0].value >0:\n",
        "      #op=problem.solve(qcp=True, verbose=True)\n",
        "        print(w.value,'u',mu,'t',t)\n",
        "    except:\n",
        "      print(\"-_('')_-\")  \n",
        "      l=t\n",
        "      #print('fn_value ',op,' ','mu ',u,' ',\n",
        "      #except:\n"
      ],
      "execution_count": 80,
      "outputs": [
        {
          "output_type": "stream",
          "text": [
            "-_('')_-\n",
            "-_('')_-\n",
            "-_('')_-\n",
            "-_('')_-\n",
            "-_('')_-\n",
            "-_('')_-\n",
            "-_('')_-\n",
            "-_('')_-\n",
            "-_('')_-\n",
            "-_('')_-\n",
            "-_('')_-\n",
            "-_('')_-\n",
            "-_('')_-\n",
            "[[0.41332212]\n",
            " [0.28898002]\n",
            " [0.03381822]\n",
            " [0.26387963]] u 0.6842105263157894 t 0.5\n",
            "[[0.41332212]\n",
            " [0.28898002]\n",
            " [0.03381822]\n",
            " [0.26387963]] u 0.6842105263157894 t 0.25\n",
            "[[0.41332212]\n",
            " [0.28898002]\n",
            " [0.03381822]\n",
            " [0.26387963]] u 0.6842105263157894 t 0.125\n",
            "[[0.41332212]\n",
            " [0.28898002]\n",
            " [0.03381822]\n",
            " [0.26387963]] u 0.6842105263157894 t 0.0625\n",
            "[[0.41332212]\n",
            " [0.28898002]\n",
            " [0.03381822]\n",
            " [0.26387963]] u 0.6842105263157894 t 0.03125\n",
            "[[0.41332212]\n",
            " [0.28898002]\n",
            " [0.03381822]\n",
            " [0.26387963]] u 0.6842105263157894 t 0.015625\n",
            "[[0.41332212]\n",
            " [0.28898002]\n",
            " [0.03381822]\n",
            " [0.26387963]] u 0.6842105263157894 t 0.0078125\n",
            "[[0.41332212]\n",
            " [0.28898002]\n",
            " [0.03381822]\n",
            " [0.26387963]] u 0.6842105263157894 t 0.00390625\n",
            "[[0.41332212]\n",
            " [0.28898002]\n",
            " [0.03381822]\n",
            " [0.26387963]] u 0.6842105263157894 t 0.001953125\n",
            "[[0.41332212]\n",
            " [0.28898002]\n",
            " [0.03381822]\n",
            " [0.26387963]] u 0.6842105263157894 t 0.0009765625\n",
            "[[0.01415655]\n",
            " [0.29677164]\n",
            " [0.4786875 ]\n",
            " [0.21038432]] u 0.7368421052631579 t 0.5\n",
            "[[0.01415655]\n",
            " [0.29677164]\n",
            " [0.4786875 ]\n",
            " [0.21038432]] u 0.7368421052631579 t 0.25\n",
            "[[0.01415655]\n",
            " [0.29677164]\n",
            " [0.4786875 ]\n",
            " [0.21038432]] u 0.7368421052631579 t 0.125\n",
            "[[0.01415655]\n",
            " [0.29677164]\n",
            " [0.4786875 ]\n",
            " [0.21038432]] u 0.7368421052631579 t 0.0625\n",
            "[[0.01415655]\n",
            " [0.29677164]\n",
            " [0.4786875 ]\n",
            " [0.21038432]] u 0.7368421052631579 t 0.03125\n",
            "[[0.01415655]\n",
            " [0.29677164]\n",
            " [0.4786875 ]\n",
            " [0.21038432]] u 0.7368421052631579 t 0.015625\n",
            "[[0.01415655]\n",
            " [0.29677164]\n",
            " [0.4786875 ]\n",
            " [0.21038432]] u 0.7368421052631579 t 0.0078125\n",
            "[[0.01415655]\n",
            " [0.29677164]\n",
            " [0.4786875 ]\n",
            " [0.21038432]] u 0.7368421052631579 t 0.00390625\n",
            "[[0.01415655]\n",
            " [0.29677164]\n",
            " [0.4786875 ]\n",
            " [0.21038432]] u 0.7368421052631579 t 0.001953125\n",
            "[[0.01415655]\n",
            " [0.29677164]\n",
            " [0.4786875 ]\n",
            " [0.21038432]] u 0.7368421052631579 t 0.0009765625\n",
            "-_('')_-\n",
            "-_('')_-\n",
            "-_('')_-\n",
            "-_('')_-\n",
            "-_('')_-\n"
          ],
          "name": "stdout"
        }
      ]
    },
    {
      "cell_type": "markdown",
      "metadata": {
        "id": "9PcRU6aqtnHc"
      },
      "source": [
        "if (4.26) is feasible, u := t; else l := t.\n",
        "until u − l ≤ ǫ."
      ]
    },
    {
      "cell_type": "code",
      "metadata": {
        "id": "jgQqhsMKmXnW"
      },
      "source": [
        "from sklearn import datasets\n",
        "# import some data to play with\n",
        "iris = datasets.load_iris()"
      ],
      "execution_count": 86,
      "outputs": []
    },
    {
      "cell_type": "code",
      "metadata": {
        "id": "NT36ayOGm79n"
      },
      "source": [
        "#import data\n",
        "X = iris.data\n",
        "Y = iris.target\n",
        "#X = X[0:5, :]\n",
        "#Y = Y[0:5]\n",
        "data = pd.DataFrame(X, columns=iris.feature_names)   # converting dataset into pandas dataframe for preprocessing\n",
        "data['class'] = Y\n"
      ],
      "execution_count": 87,
      "outputs": []
    },
    {
      "cell_type": "code",
      "metadata": {
        "id": "bq83QFjsnUaZ"
      },
      "source": [
        "from sklearn.model_selection import train_test_split\n",
        "X_train, X_test, y_train, y_test = train_test_split(data.drop('class',axis=1),data.iloc[:,4:5], test_size=0.3, random_state=42)"
      ],
      "execution_count": 95,
      "outputs": []
    },
    {
      "cell_type": "code",
      "metadata": {
        "id": "ngBbnDWhy7C7"
      },
      "source": [
        "n=4\n",
        "H=[]\n",
        "for i in range(0,n):\n",
        "  features=data.drop('class',axis=1).columns\n",
        "  import random \n",
        "  n=random.choice(range(1,features.size))\n",
        "  feature_list=random.choices(features,k=n)\n",
        "  feature_list\n",
        "  frames = [X_train,y_train]\n",
        "  data_train = pd.concat(frames,axis=1)\n",
        "  n_sample=random.choice(range(int(data_train.count()[0]*0.7),data_train.count()[0]))\n",
        "  data_train_sample=data_train.sample(n_sample,replace=bool)\n",
        "  X_multi=data_train_sample[features]\n",
        "  y_train_multi=[]\n",
        "  for i in data_train_sample['class']:\n",
        "      if i==0:\n",
        "          y_train_multi.append([0,0,1])\n",
        "      elif i==1:\n",
        "          y_train_multi.append([0,1,0])\n",
        "      else:\n",
        "          y_train_multi.append([1,0,0])           \n",
        "  from sklearn import tree\n",
        "  n_depth=random.choice(range(1,5))\n",
        "  clf = tree.DecisionTreeClassifier(splitter='random',max_features='sqrt',max_depth=1)\n",
        "  clf = clf.fit(X_multi, y_train_multi)\n",
        "  #print(tree.export_text(clf))\n",
        "  predictions=clf.predict(X_test[features])  \n",
        "  H.append(predictions)"
      ],
      "execution_count": 96,
      "outputs": []
    },
    {
      "cell_type": "code",
      "metadata": {
        "id": "XCQr9qWFy74h"
      },
      "source": [
        "y_test_multi_true=[]\n",
        "y_test_multi_false=[]\n",
        "for i in y_test['class']:\n",
        "      if i==0:\n",
        "          y_test_multi_true.append([0,0,1])\n",
        "          y_test_multi_false.append([[0,1,0],[1,0,0]])\n",
        "      elif i==1:\n",
        "          y_test_multi_true.append([0,1,0])\n",
        "          y_test_multi_false.append([[0,0,1],[1,0,0]])\n",
        "      else:\n",
        "          y_test_multi_true.append([1,0,0])\n",
        "          y_test_multi_false.append([[0,1,0],[0,0,1]])       "
      ],
      "execution_count": 101,
      "outputs": []
    },
    {
      "cell_type": "code",
      "metadata": {
        "colab": {
          "base_uri": "https://localhost:8080/"
        },
        "id": "mvSULWWU2CFB",
        "outputId": "19cafdff-97e6-40cf-e6c4-37cb28811395"
      },
      "source": [
        "n = np.array(H).shape[0]\n",
        "w=cp.Variable(shape=(n,1),nonneg=True)\n",
        "print(w)\n",
        "#w = np.array([[0.25], [0.25], [0.25], [0.25]])\n",
        "#print(np.array(H).shape)\n",
        "majority = 0\n",
        "print(n)\n",
        "for i in range(n):\n",
        "  majority = majority+w[i]*H[i]\n",
        "#majority=w[0]*H[0]+w[1]*H[1]+w[2]*H[2]+w[3]*H[3]"
      ],
      "execution_count": 108,
      "outputs": [
        {
          "output_type": "stream",
          "text": [
            "var1365798\n",
            "4\n"
          ],
          "name": "stdout"
        }
      ]
    },
    {
      "cell_type": "code",
      "metadata": {
        "colab": {
          "base_uri": "https://localhost:8080/"
        },
        "id": "FJFO8M2n3SA_",
        "outputId": "0a6337e7-1fa1-4dc5-fda3-eb21882d5288"
      },
      "source": [
        "#mu_1=0\n",
        "#mu_2=0\n",
        "#for i,j,k in zip(majority,y_test_multi_true,y_test_multi_false):\n",
        "#  mu_1=mu_1+(i[0]*j[0])+(i[1]*j[1])-((i[0]*k[0])+(i[1]*k[1]))\n",
        "#  mu_2=mu_2+((i[0]*j[0])+(i[1]*j[1])-((i[0]*k[0])+(i[1]*k[1])))**2\n",
        "margin1 = cp.sum(cp.multiply(majority, cp.atoms.affine.transpose.transpose(y_test_multi_true)), axis=1)\n",
        "margin2 = cp.sum(cp.multiply(majority, (np.array(y_test_multi_false)[:,0])), axis=1)\n",
        "margin3 = cp.sum(cp.multiply(majority, (np.array(y_test_multi_false)[:,1])), axis=1)\n",
        "\n",
        "#margin = margin - cp.sum(cp.multiply(majority, cp.atoms.affine.transpose.transpose(y_test_multi_false)), axis=1)\n",
        "mu_1 = cp.sum(margin1)/majority.shape[0]\n",
        "mu_2 = cp.sum(margin1**2)/majority.shape[0]\n",
        "#mu_1 = cp.sum(margin1-cp.maximum(margin2,margin3))/majority.shape[0]\n",
        "#mu_2 = cp.sum((margin1-cp.maximum(margin2,margin3))**2)/majority.shape[0]\n",
        "print(mu_1)"
      ],
      "execution_count": 120,
      "outputs": [
        {
          "output_type": "stream",
          "text": [
            "Sum(Sum((0.0 + Promote(var1365798[0, 0], (45, 3)) * [[0. 1. 0.]\n",
            " [0. 0. 1.]\n",
            " [0. 1. 0.]\n",
            " [0. 1. 0.]\n",
            " [0. 1. 0.]\n",
            " [0. 0. 1.]\n",
            " [0. 1. 0.]\n",
            " [0. 1. 0.]\n",
            " [0. 1. 0.]\n",
            " [0. 1. 0.]\n",
            " [0. 1. 0.]\n",
            " [0. 0. 1.]\n",
            " [0. 0. 1.]\n",
            " [0. 0. 1.]\n",
            " [0. 0. 1.]\n",
            " [0. 1. 0.]\n",
            " [0. 1. 0.]\n",
            " [0. 1. 0.]\n",
            " [0. 1. 0.]\n",
            " [0. 1. 0.]\n",
            " [0. 0. 1.]\n",
            " [0. 1. 0.]\n",
            " [0. 0. 1.]\n",
            " [0. 1. 0.]\n",
            " [0. 1. 0.]\n",
            " [0. 1. 0.]\n",
            " [0. 1. 0.]\n",
            " [0. 1. 0.]\n",
            " [0. 0. 1.]\n",
            " [0. 0. 1.]\n",
            " [0. 0. 1.]\n",
            " [0. 0. 1.]\n",
            " [0. 1. 0.]\n",
            " [0. 0. 1.]\n",
            " [0. 0. 1.]\n",
            " [0. 1. 0.]\n",
            " [0. 1. 0.]\n",
            " [0. 0. 1.]\n",
            " [0. 0. 1.]\n",
            " [0. 0. 1.]\n",
            " [0. 1. 0.]\n",
            " [0. 1. 0.]\n",
            " [0. 1. 0.]\n",
            " [0. 0. 1.]\n",
            " [0. 0. 1.]] + Promote(var1365798[1, 0], (45, 3)) * [[0. 1. 0.]\n",
            " [0. 0. 1.]\n",
            " [0. 1. 0.]\n",
            " [0. 1. 0.]\n",
            " [0. 1. 0.]\n",
            " [0. 0. 1.]\n",
            " [0. 1. 0.]\n",
            " [0. 1. 0.]\n",
            " [0. 1. 0.]\n",
            " [0. 1. 0.]\n",
            " [0. 1. 0.]\n",
            " [0. 1. 0.]\n",
            " [0. 0. 1.]\n",
            " [0. 1. 0.]\n",
            " [0. 0. 1.]\n",
            " [0. 0. 1.]\n",
            " [0. 1. 0.]\n",
            " [0. 1. 0.]\n",
            " [0. 1. 0.]\n",
            " [0. 1. 0.]\n",
            " [0. 1. 0.]\n",
            " [0. 1. 0.]\n",
            " [0. 0. 1.]\n",
            " [0. 1. 0.]\n",
            " [0. 0. 1.]\n",
            " [0. 1. 0.]\n",
            " [0. 1. 0.]\n",
            " [0. 1. 0.]\n",
            " [0. 1. 0.]\n",
            " [0. 1. 0.]\n",
            " [0. 0. 1.]\n",
            " [0. 0. 1.]\n",
            " [0. 1. 0.]\n",
            " [0. 0. 1.]\n",
            " [0. 1. 0.]\n",
            " [0. 1. 0.]\n",
            " [0. 1. 0.]\n",
            " [0. 0. 1.]\n",
            " [0. 0. 1.]\n",
            " [0. 0. 1.]\n",
            " [0. 1. 0.]\n",
            " [0. 0. 1.]\n",
            " [0. 1. 0.]\n",
            " [0. 0. 1.]\n",
            " [0. 0. 1.]] + Promote(var1365798[2, 0], (45, 3)) * [[0. 0. 0.]\n",
            " [0. 0. 0.]\n",
            " [1. 0. 0.]\n",
            " [0. 0. 0.]\n",
            " [0. 0. 0.]\n",
            " [0. 0. 0.]\n",
            " [0. 0. 0.]\n",
            " [0. 0. 0.]\n",
            " [0. 0. 0.]\n",
            " [0. 0. 0.]\n",
            " [0. 0. 0.]\n",
            " [0. 0. 0.]\n",
            " [0. 0. 0.]\n",
            " [0. 0. 0.]\n",
            " [0. 0. 0.]\n",
            " [0. 0. 0.]\n",
            " [1. 0. 0.]\n",
            " [0. 0. 0.]\n",
            " [0. 0. 0.]\n",
            " [1. 0. 0.]\n",
            " [0. 0. 0.]\n",
            " [0. 0. 0.]\n",
            " [0. 0. 0.]\n",
            " [1. 0. 0.]\n",
            " [1. 0. 0.]\n",
            " [0. 0. 0.]\n",
            " [1. 0. 0.]\n",
            " [1. 0. 0.]\n",
            " [0. 0. 0.]\n",
            " [0. 0. 0.]\n",
            " [0. 0. 0.]\n",
            " [0. 0. 0.]\n",
            " [0. 0. 0.]\n",
            " [0. 0. 0.]\n",
            " [0. 0. 0.]\n",
            " [0. 0. 0.]\n",
            " [0. 0. 0.]\n",
            " [0. 0. 0.]\n",
            " [0. 0. 0.]\n",
            " [0. 0. 0.]\n",
            " [0. 0. 0.]\n",
            " [0. 0. 0.]\n",
            " [0. 0. 0.]\n",
            " [0. 0. 0.]\n",
            " [0. 0. 0.]] + Promote(var1365798[3, 0], (45, 3)) * [[1. 0. 0.]\n",
            " [0. 0. 1.]\n",
            " [1. 0. 0.]\n",
            " [1. 0. 0.]\n",
            " [1. 0. 0.]\n",
            " [0. 0. 1.]\n",
            " [1. 0. 0.]\n",
            " [1. 0. 0.]\n",
            " [1. 0. 0.]\n",
            " [1. 0. 0.]\n",
            " [1. 0. 0.]\n",
            " [0. 0. 1.]\n",
            " [0. 0. 1.]\n",
            " [0. 0. 1.]\n",
            " [0. 0. 1.]\n",
            " [1. 0. 0.]\n",
            " [1. 0. 0.]\n",
            " [1. 0. 0.]\n",
            " [1. 0. 0.]\n",
            " [1. 0. 0.]\n",
            " [0. 0. 1.]\n",
            " [1. 0. 0.]\n",
            " [0. 0. 1.]\n",
            " [1. 0. 0.]\n",
            " [1. 0. 0.]\n",
            " [1. 0. 0.]\n",
            " [1. 0. 0.]\n",
            " [1. 0. 0.]\n",
            " [0. 0. 1.]\n",
            " [0. 0. 1.]\n",
            " [0. 0. 1.]\n",
            " [0. 0. 1.]\n",
            " [1. 0. 0.]\n",
            " [0. 0. 1.]\n",
            " [0. 0. 1.]\n",
            " [1. 0. 0.]\n",
            " [1. 0. 0.]\n",
            " [0. 0. 1.]\n",
            " [0. 0. 1.]\n",
            " [0. 0. 1.]\n",
            " [1. 0. 0.]\n",
            " [1. 0. 0.]\n",
            " [1. 0. 0.]\n",
            " [0. 0. 1.]\n",
            " [0. 0. 1.]]) * [[0. 0. 1. 0. 0. 0. 0. 1. 0. 0. 1. 0. 0. 0. 0. 0. 1. 0. 0. 1. 0. 1. 0. 1.\n",
            "  1. 1. 1. 1. 0. 0. 0. 0. 0. 0. 0. 1. 0. 0. 0. 0. 1. 0. 0. 0. 0.]\n",
            " [1. 0. 0. 1. 1. 0. 1. 0. 1. 1. 0. 0. 0. 0. 0. 1. 0. 1. 1. 0. 0. 0. 0. 0.\n",
            "  0. 0. 0. 0. 0. 0. 0. 0. 1. 0. 0. 0. 1. 0. 0. 0. 0. 1. 1. 0. 0.]\n",
            " [0. 1. 0. 0. 0. 1. 0. 0. 0. 0. 0. 1. 1. 1. 1. 0. 0. 0. 0. 0. 1. 0. 1. 0.\n",
            "  0. 0. 0. 0. 1. 1. 1. 1. 0. 1. 1. 0. 0. 1. 1. 1. 0. 0. 0. 1. 1.]].T, 1, False), None, False) / 45.0\n"
          ],
          "name": "stdout"
        }
      ]
    },
    {
      "cell_type": "code",
      "metadata": {
        "colab": {
          "base_uri": "https://localhost:8080/"
        },
        "id": "AuOt40uY5NC_",
        "outputId": "700ed276-b12b-4ab2-cda0-755b9f38490c"
      },
      "source": [
        "u1=np.linspace(0.0,1.0,20)\n",
        "#for t in t1:\n",
        "for mu in u1:\n",
        "  \n",
        "  u=1\n",
        "  l=0\n",
        "  \n",
        "  while u-l>0.001:\n",
        "    t=(u+l)/2\n",
        "    fn=mu**2-(1-t)*mu_2\n",
        "    #fn=(u**2)/(mu_2)\n",
        "    #problem = cp.Problem(cp.Maximize(fn),[mu_1==u,cp.sum(w)==1,w>=0])\n",
        "  \n",
        "  \n",
        "    problem = cp.Problem(cp.Maximize(fn),[mu_1==mu,cp.sum(w)==1,w>=0])\n",
        "    #try:\n",
        "    #assert problem.is_dqcp()\n",
        "    #op=problem.solve(verbose=True)\n",
        "    try:\n",
        "      op=problem.solve(qcp=True)\n",
        "      u=t\n",
        "      if w[0].value >0:\n",
        "      #op=problem.solve(qcp=True, verbose=True)\n",
        "        print(w.value,'u',mu,'t',t)\n",
        "    except:\n",
        "      print(\"-_('')_-\")  \n",
        "      l=t\n",
        "      #print('fn_value ',op,' ','mu ',u,' ',\n",
        "      #except:\n"
      ],
      "execution_count": 121,
      "outputs": [
        {
          "output_type": "stream",
          "text": [
            "-_('')_-\n",
            "-_('')_-\n",
            "-_('')_-\n",
            "[[0.05792414]\n",
            " [0.19964716]\n",
            " [0.7424287 ]\n",
            " [0.        ]] u 0.2631578947368421 t 0.5\n",
            "[[0.05792414]\n",
            " [0.19964716]\n",
            " [0.7424287 ]\n",
            " [0.        ]] u 0.2631578947368421 t 0.25\n",
            "[[0.05792414]\n",
            " [0.19964716]\n",
            " [0.7424287 ]\n",
            " [0.        ]] u 0.2631578947368421 t 0.125\n",
            "[[0.05792414]\n",
            " [0.19964716]\n",
            " [0.7424287 ]\n",
            " [0.        ]] u 0.2631578947368421 t 0.0625\n",
            "[[0.05792414]\n",
            " [0.19964716]\n",
            " [0.7424287 ]\n",
            " [0.        ]] u 0.2631578947368421 t 0.03125\n",
            "[[5.79241400e-02]\n",
            " [1.99647163e-01]\n",
            " [7.42428697e-01]\n",
            " [4.53057299e-23]] u 0.2631578947368421 t 0.015625\n",
            "[[5.79241400e-02]\n",
            " [1.99647163e-01]\n",
            " [7.42428697e-01]\n",
            " [1.13479419e-22]] u 0.2631578947368421 t 0.0078125\n",
            "[[0.05792414]\n",
            " [0.19964716]\n",
            " [0.7424287 ]\n",
            " [0.        ]] u 0.2631578947368421 t 0.00390625\n",
            "[[5.79241400e-02]\n",
            " [1.99647163e-01]\n",
            " [7.42428697e-01]\n",
            " [4.77787001e-23]] u 0.2631578947368421 t 0.001953125\n",
            "[[5.79241400e-02]\n",
            " [1.99647163e-01]\n",
            " [7.42428697e-01]\n",
            " [1.76023708e-23]] u 0.2631578947368421 t 0.0009765625\n",
            "[[0.19464863]\n",
            " [0.13790062]\n",
            " [0.66745075]\n",
            " [0.        ]] u 0.3157894736842105 t 0.5\n",
            "[[1.94648633e-01]\n",
            " [1.37900617e-01]\n",
            " [6.67450750e-01]\n",
            " [7.10259464e-23]] u 0.3157894736842105 t 0.25\n",
            "[[1.94648633e-01]\n",
            " [1.37900617e-01]\n",
            " [6.67450750e-01]\n",
            " [8.32644748e-23]] u 0.3157894736842105 t 0.125\n",
            "[[0.19464863]\n",
            " [0.13790062]\n",
            " [0.66745075]\n",
            " [0.        ]] u 0.3157894736842105 t 0.0625\n",
            "[[1.94648633e-01]\n",
            " [1.37900617e-01]\n",
            " [6.67450750e-01]\n",
            " [4.25166590e-23]] u 0.3157894736842105 t 0.03125\n",
            "[[1.94648633e-01]\n",
            " [1.37900617e-01]\n",
            " [6.67450750e-01]\n",
            " [4.01592602e-23]] u 0.3157894736842105 t 0.015625\n",
            "[[1.94648633e-01]\n",
            " [1.37900617e-01]\n",
            " [6.67450750e-01]\n",
            " [4.32790091e-23]] u 0.3157894736842105 t 0.0078125\n",
            "[[0.19464863]\n",
            " [0.13790062]\n",
            " [0.66745075]\n",
            " [0.        ]] u 0.3157894736842105 t 0.00390625\n",
            "[[0.19464863]\n",
            " [0.13790062]\n",
            " [0.66745075]\n",
            " [0.        ]] u 0.3157894736842105 t 0.001953125\n",
            "[[1.94648633e-01]\n",
            " [1.37900617e-01]\n",
            " [6.67450750e-01]\n",
            " [1.18231755e-23]] u 0.3157894736842105 t 0.0009765625\n",
            "[[0.26957223]\n",
            " [0.10371691]\n",
            " [0.58365269]\n",
            " [0.04305817]] u 0.3684210526315789 t 0.5\n",
            "[[0.26957223]\n",
            " [0.10371691]\n",
            " [0.58365269]\n",
            " [0.04305817]] u 0.3684210526315789 t 0.25\n",
            "[[0.26957223]\n",
            " [0.10371691]\n",
            " [0.58365269]\n",
            " [0.04305817]] u 0.3684210526315789 t 0.125\n",
            "[[0.26957223]\n",
            " [0.10371691]\n",
            " [0.58365269]\n",
            " [0.04305817]] u 0.3684210526315789 t 0.0625\n",
            "[[0.26957223]\n",
            " [0.10371691]\n",
            " [0.58365269]\n",
            " [0.04305817]] u 0.3684210526315789 t 0.03125\n",
            "[[0.26957223]\n",
            " [0.10371691]\n",
            " [0.58365269]\n",
            " [0.04305817]] u 0.3684210526315789 t 0.015625\n",
            "[[0.26957223]\n",
            " [0.10371691]\n",
            " [0.58365269]\n",
            " [0.04305817]] u 0.3684210526315789 t 0.0078125\n",
            "[[0.26957223]\n",
            " [0.10371691]\n",
            " [0.58365269]\n",
            " [0.04305817]] u 0.3684210526315789 t 0.00390625\n",
            "[[0.26957223]\n",
            " [0.10371691]\n",
            " [0.58365269]\n",
            " [0.04305817]] u 0.3684210526315789 t 0.001953125\n",
            "[[0.26957223]\n",
            " [0.10371691]\n",
            " [0.58365269]\n",
            " [0.04305817]] u 0.3684210526315789 t 0.0009765625\n",
            "[[0.30581338]\n",
            " [0.08678535]\n",
            " [0.49433395]\n",
            " [0.11306732]] u 0.42105263157894735 t 0.5\n",
            "[[0.30581338]\n",
            " [0.08678535]\n",
            " [0.49433395]\n",
            " [0.11306732]] u 0.42105263157894735 t 0.25\n",
            "[[0.30581338]\n",
            " [0.08678535]\n",
            " [0.49433395]\n",
            " [0.11306732]] u 0.42105263157894735 t 0.125\n",
            "[[0.30581338]\n",
            " [0.08678535]\n",
            " [0.49433395]\n",
            " [0.11306732]] u 0.42105263157894735 t 0.0625\n",
            "[[0.30581338]\n",
            " [0.08678535]\n",
            " [0.49433395]\n",
            " [0.11306732]] u 0.42105263157894735 t 0.03125\n",
            "[[0.30581338]\n",
            " [0.08678535]\n",
            " [0.49433395]\n",
            " [0.11306732]] u 0.42105263157894735 t 0.015625\n",
            "[[0.30581338]\n",
            " [0.08678535]\n",
            " [0.49433395]\n",
            " [0.11306732]] u 0.42105263157894735 t 0.0078125\n",
            "[[0.30581338]\n",
            " [0.08678535]\n",
            " [0.49433395]\n",
            " [0.11306732]] u 0.42105263157894735 t 0.00390625\n",
            "[[0.30581338]\n",
            " [0.08678535]\n",
            " [0.49433395]\n",
            " [0.11306732]] u 0.42105263157894735 t 0.001953125\n",
            "[[0.30581338]\n",
            " [0.08678535]\n",
            " [0.49433395]\n",
            " [0.11306732]] u 0.42105263157894735 t 0.0009765625\n",
            "[[0.34205453]\n",
            " [0.06985379]\n",
            " [0.40501521]\n",
            " [0.18307647]] u 0.47368421052631576 t 0.5\n",
            "[[0.34205453]\n",
            " [0.06985379]\n",
            " [0.40501521]\n",
            " [0.18307647]] u 0.47368421052631576 t 0.25\n",
            "[[0.34205453]\n",
            " [0.06985379]\n",
            " [0.40501521]\n",
            " [0.18307647]] u 0.47368421052631576 t 0.125\n",
            "[[0.34205453]\n",
            " [0.06985379]\n",
            " [0.40501521]\n",
            " [0.18307647]] u 0.47368421052631576 t 0.0625\n",
            "[[0.34205453]\n",
            " [0.06985379]\n",
            " [0.40501521]\n",
            " [0.18307647]] u 0.47368421052631576 t 0.03125\n",
            "[[0.34205453]\n",
            " [0.06985379]\n",
            " [0.40501521]\n",
            " [0.18307647]] u 0.47368421052631576 t 0.015625\n",
            "[[0.34205453]\n",
            " [0.06985379]\n",
            " [0.40501521]\n",
            " [0.18307647]] u 0.47368421052631576 t 0.0078125\n",
            "[[0.34205453]\n",
            " [0.06985379]\n",
            " [0.40501521]\n",
            " [0.18307647]] u 0.47368421052631576 t 0.00390625\n",
            "[[0.34205453]\n",
            " [0.06985379]\n",
            " [0.40501521]\n",
            " [0.18307647]] u 0.47368421052631576 t 0.001953125\n",
            "[[0.34205453]\n",
            " [0.06985379]\n",
            " [0.40501521]\n",
            " [0.18307647]] u 0.47368421052631576 t 0.0009765625\n",
            "[[0.37829568]\n",
            " [0.05292223]\n",
            " [0.31569647]\n",
            " [0.25308562]] u 0.5263157894736842 t 0.5\n",
            "[[0.37829568]\n",
            " [0.05292223]\n",
            " [0.31569647]\n",
            " [0.25308562]] u 0.5263157894736842 t 0.25\n",
            "[[0.37829568]\n",
            " [0.05292223]\n",
            " [0.31569647]\n",
            " [0.25308562]] u 0.5263157894736842 t 0.125\n",
            "[[0.37829568]\n",
            " [0.05292223]\n",
            " [0.31569647]\n",
            " [0.25308562]] u 0.5263157894736842 t 0.0625\n",
            "[[0.37829568]\n",
            " [0.05292223]\n",
            " [0.31569647]\n",
            " [0.25308562]] u 0.5263157894736842 t 0.03125\n",
            "[[0.37829568]\n",
            " [0.05292223]\n",
            " [0.31569647]\n",
            " [0.25308562]] u 0.5263157894736842 t 0.015625\n",
            "[[0.37829568]\n",
            " [0.05292223]\n",
            " [0.31569647]\n",
            " [0.25308562]] u 0.5263157894736842 t 0.0078125\n",
            "[[0.37829568]\n",
            " [0.05292223]\n",
            " [0.31569647]\n",
            " [0.25308562]] u 0.5263157894736842 t 0.00390625\n",
            "[[0.37829568]\n",
            " [0.05292223]\n",
            " [0.31569647]\n",
            " [0.25308562]] u 0.5263157894736842 t 0.001953125\n",
            "[[0.37829568]\n",
            " [0.05292223]\n",
            " [0.31569647]\n",
            " [0.25308562]] u 0.5263157894736842 t 0.0009765625\n",
            "[[0.41453683]\n",
            " [0.03599067]\n",
            " [0.22637772]\n",
            " [0.32309478]] u 0.5789473684210527 t 0.5\n",
            "[[0.41453683]\n",
            " [0.03599067]\n",
            " [0.22637772]\n",
            " [0.32309478]] u 0.5789473684210527 t 0.25\n",
            "[[0.41453683]\n",
            " [0.03599067]\n",
            " [0.22637772]\n",
            " [0.32309478]] u 0.5789473684210527 t 0.125\n",
            "[[0.41453683]\n",
            " [0.03599067]\n",
            " [0.22637772]\n",
            " [0.32309478]] u 0.5789473684210527 t 0.0625\n",
            "[[0.41453683]\n",
            " [0.03599067]\n",
            " [0.22637772]\n",
            " [0.32309478]] u 0.5789473684210527 t 0.03125\n",
            "[[0.41453683]\n",
            " [0.03599067]\n",
            " [0.22637772]\n",
            " [0.32309478]] u 0.5789473684210527 t 0.015625\n",
            "[[0.41453683]\n",
            " [0.03599067]\n",
            " [0.22637772]\n",
            " [0.32309478]] u 0.5789473684210527 t 0.0078125\n",
            "[[0.41453683]\n",
            " [0.03599067]\n",
            " [0.22637772]\n",
            " [0.32309478]] u 0.5789473684210527 t 0.00390625\n",
            "[[0.41453683]\n",
            " [0.03599067]\n",
            " [0.22637772]\n",
            " [0.32309478]] u 0.5789473684210527 t 0.001953125\n",
            "[[0.41453683]\n",
            " [0.03599067]\n",
            " [0.22637772]\n",
            " [0.32309478]] u 0.5789473684210527 t 0.0009765625\n",
            "[[0.45077799]\n",
            " [0.0190591 ]\n",
            " [0.13705898]\n",
            " [0.39310393]] u 0.631578947368421 t 0.5\n",
            "[[0.45077799]\n",
            " [0.0190591 ]\n",
            " [0.13705898]\n",
            " [0.39310393]] u 0.631578947368421 t 0.25\n",
            "[[0.45077799]\n",
            " [0.0190591 ]\n",
            " [0.13705898]\n",
            " [0.39310393]] u 0.631578947368421 t 0.125\n",
            "[[0.45077799]\n",
            " [0.0190591 ]\n",
            " [0.13705898]\n",
            " [0.39310393]] u 0.631578947368421 t 0.0625\n",
            "[[0.45077799]\n",
            " [0.0190591 ]\n",
            " [0.13705898]\n",
            " [0.39310393]] u 0.631578947368421 t 0.03125\n",
            "[[0.45077799]\n",
            " [0.0190591 ]\n",
            " [0.13705898]\n",
            " [0.39310393]] u 0.631578947368421 t 0.015625\n",
            "[[0.45077799]\n",
            " [0.0190591 ]\n",
            " [0.13705898]\n",
            " [0.39310393]] u 0.631578947368421 t 0.0078125\n",
            "[[0.45077799]\n",
            " [0.0190591 ]\n",
            " [0.13705898]\n",
            " [0.39310393]] u 0.631578947368421 t 0.00390625\n",
            "[[0.45077799]\n",
            " [0.0190591 ]\n",
            " [0.13705898]\n",
            " [0.39310393]] u 0.631578947368421 t 0.001953125\n",
            "[[0.45077799]\n",
            " [0.0190591 ]\n",
            " [0.13705898]\n",
            " [0.39310393]] u 0.631578947368421 t 0.0009765625\n",
            "[[0.48701914]\n",
            " [0.00212754]\n",
            " [0.04774024]\n",
            " [0.46311308]] u 0.6842105263157894 t 0.5\n",
            "[[0.48701914]\n",
            " [0.00212754]\n",
            " [0.04774024]\n",
            " [0.46311308]] u 0.6842105263157894 t 0.25\n",
            "[[0.48701914]\n",
            " [0.00212754]\n",
            " [0.04774024]\n",
            " [0.46311308]] u 0.6842105263157894 t 0.125\n",
            "[[0.48701914]\n",
            " [0.00212754]\n",
            " [0.04774024]\n",
            " [0.46311308]] u 0.6842105263157894 t 0.0625\n",
            "[[0.48701914]\n",
            " [0.00212754]\n",
            " [0.04774024]\n",
            " [0.46311308]] u 0.6842105263157894 t 0.03125\n",
            "[[0.48701914]\n",
            " [0.00212754]\n",
            " [0.04774024]\n",
            " [0.46311308]] u 0.6842105263157894 t 0.015625\n",
            "[[0.48701914]\n",
            " [0.00212754]\n",
            " [0.04774024]\n",
            " [0.46311308]] u 0.6842105263157894 t 0.0078125\n",
            "[[0.48701914]\n",
            " [0.00212754]\n",
            " [0.04774024]\n",
            " [0.46311308]] u 0.6842105263157894 t 0.00390625\n",
            "[[0.48701914]\n",
            " [0.00212754]\n",
            " [0.04774024]\n",
            " [0.46311308]] u 0.6842105263157894 t 0.001953125\n",
            "[[0.48701914]\n",
            " [0.00212754]\n",
            " [0.04774024]\n",
            " [0.46311308]] u 0.6842105263157894 t 0.0009765625\n",
            "-_('')_-\n",
            "-_('')_-\n",
            "-_('')_-\n",
            "-_('')_-\n",
            "-_('')_-\n",
            "-_('')_-\n"
          ],
          "name": "stdout"
        }
      ]
    },
    {
      "cell_type": "code",
      "metadata": {
        "id": "c_YmR6dW5Qay"
      },
      "source": [
        ""
      ],
      "execution_count": 121,
      "outputs": []
    },
    {
      "cell_type": "code",
      "metadata": {
        "id": "9XWfEkRM_-S_"
      },
      "source": [
        ""
      ],
      "execution_count": null,
      "outputs": []
    }
  ]
}